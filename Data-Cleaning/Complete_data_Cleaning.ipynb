{
 "cells": [
  {
   "cell_type": "code",
   "execution_count": null,
   "id": "d436a2dd",
   "metadata": {},
   "outputs": [
    {
     "name": "stdout",
     "output_type": "stream",
     "text": [
      "Original Dataset with NaN values and an empty row:\n",
      "\n",
      "           Name   Age    Salary\n",
      "0         Pukar  21.0   12935.0\n",
      "1         Rimal  20.0   87333.0\n",
      "2           Ram   NaN   20000.0\n",
      "3          Hari  34.0       NaN\n",
      "4       Krishna  54.0   13000.0\n",
      "5     John Cena  77.0  150000.0\n",
      "6   Roman Reing  45.0  113000.0\n",
      "7       Ronaldo   NaN  125000.0\n",
      "8        Neymar  66.0       NaN\n",
      "9         Messi  15.0   60000.2\n",
      "10          NaN   NaN       NaN\n",
      "\n",
      "Cleaned Dataset:\n",
      "\n",
      "          Name   Age    Salary\n",
      "0        Pukar  21.0   12935.0\n",
      "1        Rimal  20.0   87333.0\n",
      "2          Ram  80.0   20000.0\n",
      "3         Hari  34.0      80.0\n",
      "4      Krishna  54.0   13000.0\n",
      "5    John Cena  77.0  150000.0\n",
      "6  Roman Reing  45.0  113000.0\n",
      "7      Ronaldo  80.0  125000.0\n",
      "8       Neymar  66.0      80.0\n",
      "9        Messi  15.0   60000.2\n"
     ]
    }
   ],
   "source": [
    "import pandas as pd \n",
    "import numpy as np \n",
    "\n",
    "data = { \n",
    "\"Name\": [\"Pukar\", \"Rimal\", \"Ram\", \"Hari\", \"Krishna\", \"John Cena\", \"Roman Reing\", \"Ronaldo\",          \n",
    "\"Neymar\", \"Messi\"], \n",
    "\"Age\": [21, 20, np.nan, 34, 54, 77, 45, np.nan, 66, 15], \n",
    "\"Salary\": [12935, 87333, 20000, np.nan, 13000, 150000, 113000.0, 125000.0, np.nan, 60000.2], \n",
    "\n",
    "}  \n",
    "df = pd.DataFrame(data) \n",
    "\n",
    "df.loc[10] = [np.nan, np.nan, np.nan] \n",
    "print(\"Original Dataset with NaN values and an empty row:\\n\") \n",
    "print(df) \n",
    "#\n",
    "df = df.dropna(how=\"all\") \n",
    "\n",
    "df = df.fillna(80) \n",
    "print(\"\\nCleaned Dataset:\\n\") \n",
    "print(df)"
   ]
  }
 ],
 "metadata": {
  "kernelspec": {
   "display_name": "base",
   "language": "python",
   "name": "python3"
  },
  "language_info": {
   "codemirror_mode": {
    "name": "ipython",
    "version": 3
   },
   "file_extension": ".py",
   "mimetype": "text/x-python",
   "name": "python",
   "nbconvert_exporter": "python",
   "pygments_lexer": "ipython3",
   "version": "3.12.7"
  }
 },
 "nbformat": 4,
 "nbformat_minor": 5
}
